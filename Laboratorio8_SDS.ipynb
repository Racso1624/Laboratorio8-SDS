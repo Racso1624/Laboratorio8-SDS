{
  "nbformat": 4,
  "nbformat_minor": 0,
  "metadata": {
    "colab": {
      "provenance": [],
      "gpuType": "T4"
    },
    "kernelspec": {
      "name": "python3",
      "display_name": "Python 3"
    },
    "language_info": {
      "name": "python"
    },
    "accelerator": "GPU"
  },
  "cells": [
    {
      "cell_type": "markdown",
      "source": [
        "# Laboratorio 8\n",
        "### Oscar Fernando López Barrios\n",
        "### Carné 20679"
      ],
      "metadata": {
        "id": "1uBcgie8c2e5"
      }
    },
    {
      "cell_type": "code",
      "source": [
        "!pip install adversarial-robustness-toolbox"
      ],
      "metadata": {
        "colab": {
          "base_uri": "https://localhost:8080/"
        },
        "id": "cBeLyFQUdTj1",
        "outputId": "3ca64e2c-82bc-45c9-c7d9-13186f9b09c8"
      },
      "execution_count": 15,
      "outputs": [
        {
          "output_type": "stream",
          "name": "stdout",
          "text": [
            "Requirement already satisfied: adversarial-robustness-toolbox in /usr/local/lib/python3.10/dist-packages (1.17.1)\n",
            "Requirement already satisfied: numpy>=1.18.0 in /usr/local/lib/python3.10/dist-packages (from adversarial-robustness-toolbox) (1.25.2)\n",
            "Requirement already satisfied: scipy>=1.4.1 in /usr/local/lib/python3.10/dist-packages (from adversarial-robustness-toolbox) (1.11.4)\n",
            "Requirement already satisfied: scikit-learn>=0.22.2 in /usr/local/lib/python3.10/dist-packages (from adversarial-robustness-toolbox) (1.2.2)\n",
            "Requirement already satisfied: six in /usr/local/lib/python3.10/dist-packages (from adversarial-robustness-toolbox) (1.16.0)\n",
            "Requirement already satisfied: setuptools in /usr/local/lib/python3.10/dist-packages (from adversarial-robustness-toolbox) (67.7.2)\n",
            "Requirement already satisfied: tqdm in /usr/local/lib/python3.10/dist-packages (from adversarial-robustness-toolbox) (4.66.4)\n",
            "Requirement already satisfied: joblib>=1.1.1 in /usr/local/lib/python3.10/dist-packages (from scikit-learn>=0.22.2->adversarial-robustness-toolbox) (1.4.2)\n",
            "Requirement already satisfied: threadpoolctl>=2.0.0 in /usr/local/lib/python3.10/dist-packages (from scikit-learn>=0.22.2->adversarial-robustness-toolbox) (3.5.0)\n"
          ]
        }
      ]
    },
    {
      "cell_type": "code",
      "source": [
        "from google.colab import drive\n",
        "drive.mount('/content/drive')\n",
        "path = \"/content/drive/MyDrive/malimg_paper_dataset_imgs\""
      ],
      "metadata": {
        "colab": {
          "base_uri": "https://localhost:8080/"
        },
        "id": "TLWGaNEweMuW",
        "outputId": "45204c78-fc28-42dc-e5f7-d437b505aff5"
      },
      "execution_count": 16,
      "outputs": [
        {
          "output_type": "stream",
          "name": "stdout",
          "text": [
            "Drive already mounted at /content/drive; to attempt to forcibly remount, call drive.mount(\"/content/drive\", force_remount=True).\n"
          ]
        }
      ]
    },
    {
      "cell_type": "code",
      "source": [
        "import tensorflow as tf\n",
        "\n",
        "gpus = tf.config.list_physical_devices('GPU')\n",
        "if gpus:\n",
        "    try:\n",
        "        tf.config.experimental.set_memory_growth(gpus[0], True)\n",
        "        print(f\"Using GPU: {gpus[0].name}\")\n",
        "    except RuntimeError as e:\n",
        "        print(e)"
      ],
      "metadata": {
        "colab": {
          "base_uri": "https://localhost:8080/"
        },
        "id": "uOQZAel3eEZj",
        "outputId": "385dd84d-4cb9-4157-dd8b-a7648697a5a3"
      },
      "execution_count": 17,
      "outputs": [
        {
          "output_type": "stream",
          "name": "stdout",
          "text": [
            "Physical devices cannot be modified after being initialized\n"
          ]
        }
      ]
    },
    {
      "cell_type": "code",
      "source": [
        "datagen = ImageDataGenerator(rescale=1./255)\n",
        "train_generator = datagen.flow_from_directory(\n",
        "    path,\n",
        "    target_size=(64, 64),\n",
        "    batch_size=32,\n",
        "    class_mode='categorical'\n",
        ")"
      ],
      "metadata": {
        "colab": {
          "base_uri": "https://localhost:8080/"
        },
        "id": "e9KJENXljRB7",
        "outputId": "39639545-4a86-4335-9049-2aad0170e922"
      },
      "execution_count": 18,
      "outputs": [
        {
          "output_type": "stream",
          "name": "stdout",
          "text": [
            "Found 9339 images belonging to 25 classes.\n"
          ]
        }
      ]
    },
    {
      "cell_type": "code",
      "source": [
        "import numpy as np\n",
        "from tensorflow.keras.models import load_model\n",
        "from art.attacks.evasion import FastGradientMethod\n",
        "from art.estimators.classification import KerasClassifier\n",
        "from tensorflow.keras.preprocessing.image import ImageDataGenerator\n",
        "\n",
        "tf.compat.v1.disable_eager_execution()\n",
        "\n",
        "model = load_model('modelo_lab_8.h5')\n",
        "\n",
        "classifier = KerasClassifier(model=model, clip_values=(0, 1))\n",
        "\n",
        "attack = FastGradientMethod(estimator=classifier, eps=0.1)\n",
        "\n",
        "def generate_and_mix_adversarial_batch(generator, attack, batch_size=32):\n",
        "    x_batch, y_batch = next(generator)\n",
        "    x_adv = attack.generate(x=x_batch)\n",
        "\n",
        "    x_train_mixed = np.concatenate((x_batch, x_adv), axis=0)\n",
        "    y_train_mixed = np.concatenate((y_batch, y_batch), axis=0)\n",
        "\n",
        "    indices = np.arange(x_train_mixed.shape[0])\n",
        "    np.random.shuffle(indices)\n",
        "    x_train_mixed = x_train_mixed[indices]\n",
        "    y_train_mixed = y_train_mixed[indices]\n",
        "\n",
        "    return x_train_mixed, y_train_mixed\n",
        "\n",
        "x_train_mixed, y_train_mixed = generate_and_mix_adversarial_batch(train_generator, attack)\n",
        "\n",
        "model.fit(x_train_mixed, y_train_mixed, epochs=10, batch_size=32)\n",
        "\n",
        "model.save('modelo_lab_8_reentrenado.h5')"
      ],
      "metadata": {
        "colab": {
          "base_uri": "https://localhost:8080/"
        },
        "id": "Z9txulEgc1u3",
        "outputId": "66a17b50-7b1b-456b-c867-3aa8403e1447"
      },
      "execution_count": 19,
      "outputs": [
        {
          "output_type": "stream",
          "name": "stderr",
          "text": [
            "/usr/local/lib/python3.10/dist-packages/keras/src/engine/training_v1.py:2359: UserWarning: `Model.state_updates` will be removed in a future version. This property should not be used in TensorFlow 2.0, as `updates` are applied automatically.\n",
            "  updates=self.state_updates,\n"
          ]
        },
        {
          "output_type": "stream",
          "name": "stdout",
          "text": [
            "Train on 64 samples\n",
            "Epoch 1/10\n",
            "64/64 [==============================] - 0s 2ms/sample - loss: 6.2356 - accuracy: 0.5156\n",
            "Epoch 2/10\n",
            "64/64 [==============================] - 0s 310us/sample - loss: 4.9314 - accuracy: 0.3906\n",
            "Epoch 3/10\n",
            "64/64 [==============================] - 0s 294us/sample - loss: 2.0848 - accuracy: 0.4375\n",
            "Epoch 4/10\n",
            "64/64 [==============================] - 0s 322us/sample - loss: 1.4874 - accuracy: 0.5625\n",
            "Epoch 5/10\n",
            "64/64 [==============================] - 0s 300us/sample - loss: 1.3487 - accuracy: 0.5625\n",
            "Epoch 6/10\n",
            "64/64 [==============================] - 0s 299us/sample - loss: 1.1818 - accuracy: 0.7188\n",
            "Epoch 7/10\n",
            "64/64 [==============================] - 0s 305us/sample - loss: 1.0726 - accuracy: 0.6562\n",
            "Epoch 8/10\n",
            "64/64 [==============================] - 0s 343us/sample - loss: 1.0817 - accuracy: 0.6719\n",
            "Epoch 9/10\n",
            "64/64 [==============================] - 0s 293us/sample - loss: 1.0464 - accuracy: 0.6562\n",
            "Epoch 10/10\n",
            "64/64 [==============================] - 0s 314us/sample - loss: 0.8600 - accuracy: 0.7031\n"
          ]
        },
        {
          "output_type": "stream",
          "name": "stderr",
          "text": [
            "/usr/local/lib/python3.10/dist-packages/keras/src/engine/training.py:3103: UserWarning: You are saving your model as an HDF5 file via `model.save()`. This file format is considered legacy. We recommend using instead the native Keras format, e.g. `model.save('my_model.keras')`.\n",
            "  saving_api.save_model(\n"
          ]
        }
      ]
    },
    {
      "cell_type": "code",
      "source": [
        "datagen_test = ImageDataGenerator(rescale=1./255)\n",
        "test_generator = datagen_test.flow_from_directory(\n",
        "    path,\n",
        "    target_size=(64, 64),\n",
        "    batch_size=32,\n",
        "    class_mode='categorical',\n",
        "    shuffle=False\n",
        ")"
      ],
      "metadata": {
        "colab": {
          "base_uri": "https://localhost:8080/"
        },
        "id": "pIBgklDYjeDh",
        "outputId": "ef3936a6-4b9f-4057-b476-097b9a096140"
      },
      "execution_count": 20,
      "outputs": [
        {
          "output_type": "stream",
          "name": "stdout",
          "text": [
            "Found 9339 images belonging to 25 classes.\n"
          ]
        }
      ]
    },
    {
      "cell_type": "code",
      "source": [
        "from sklearn.metrics import accuracy_score, confusion_matrix, classification_report\n",
        "from tensorflow.keras.models import load_model\n",
        "\n",
        "model = load_model('modelo_lab_8_reentrenado.h5')\n",
        "\n",
        "test_steps_per_epoch = np.math.ceil(test_generator.samples / test_generator.batch_size)\n",
        "predictions = model.predict(test_generator, steps=test_steps_per_epoch)\n",
        "predicted_classes = np.argmax(predictions, axis=1)\n",
        "true_classes = test_generator.classes\n",
        "class_labels = list(test_generator.class_indices.keys())\n",
        "\n",
        "# Calcular la precisión\n",
        "accuracy = accuracy_score(true_classes, predicted_classes)\n",
        "print(f'Accuracy: {accuracy * 100:.2f}%')\n",
        "\n",
        "# Informe de clasificación\n",
        "report = classification_report(true_classes, predicted_classes, target_names=class_labels)\n",
        "print('Classification Report:')\n",
        "print(report)"
      ],
      "metadata": {
        "colab": {
          "base_uri": "https://localhost:8080/"
        },
        "id": "hyQjvvdRdN9K",
        "outputId": "7605630e-b50b-4c6d-b3d4-88347c8d19d2"
      },
      "execution_count": 21,
      "outputs": [
        {
          "output_type": "stream",
          "name": "stderr",
          "text": [
            "<ipython-input-21-12f323ed4377>:6: DeprecationWarning: `np.math` is a deprecated alias for the standard library `math` module (Deprecated Numpy 1.25). Replace usages of `np.math` with `math`\n",
            "  test_steps_per_epoch = np.math.ceil(test_generator.samples / test_generator.batch_size)\n"
          ]
        },
        {
          "output_type": "stream",
          "name": "stdout",
          "text": [
            "Accuracy: 69.65%\n",
            "Classification Report:\n",
            "                precision    recall  f1-score   support\n",
            "\n",
            "     Adialer.C       0.69      1.00      0.81       122\n",
            "     Agent.FYI       0.90      1.00      0.95       116\n",
            "     Allaple.A       0.82      0.50      0.62      2949\n",
            "     Allaple.L       0.45      0.95      0.61      1591\n",
            " Alueron.gen!J       0.97      0.94      0.96       198\n",
            "     Autorun.K       0.00      0.00      0.00       106\n",
            "       C2LOP.P       0.40      0.66      0.50       146\n",
            "   C2LOP.gen!g       0.79      0.24      0.37       200\n",
            "Dialplatform.B       0.96      0.99      0.97       177\n",
            "     Dontovo.A       0.99      1.00      1.00       162\n",
            "      Fakerean       0.97      0.99      0.98       381\n",
            " Instantaccess       0.85      1.00      0.92       431\n",
            "    Lolyda.AA1       0.81      0.92      0.87       213\n",
            "    Lolyda.AA2       0.97      0.76      0.85       184\n",
            "    Lolyda.AA3       0.97      0.24      0.39       123\n",
            "     Lolyda.AT       0.94      0.31      0.46       159\n",
            "   Malex.gen!J       1.00      0.04      0.07       136\n",
            " Obfuscator.AD       0.73      1.00      0.85       142\n",
            "      Rbot!gen       0.00      0.00      0.00       158\n",
            "    Skintrim.N       0.00      0.00      0.00        80\n",
            " Swizzor.gen!E       0.00      0.00      0.00       128\n",
            " Swizzor.gen!I       0.43      0.57      0.49       132\n",
            "         VB.AT       0.99      0.95      0.97       408\n",
            "    Wintrim.BX       0.50      0.01      0.02        97\n",
            "       Yuner.A       0.83      1.00      0.90       800\n",
            "\n",
            "      accuracy                           0.70      9339\n",
            "     macro avg       0.68      0.60      0.58      9339\n",
            "  weighted avg       0.73      0.70      0.67      9339\n",
            "\n"
          ]
        },
        {
          "output_type": "stream",
          "name": "stderr",
          "text": [
            "/usr/local/lib/python3.10/dist-packages/sklearn/metrics/_classification.py:1344: UndefinedMetricWarning: Precision and F-score are ill-defined and being set to 0.0 in labels with no predicted samples. Use `zero_division` parameter to control this behavior.\n",
            "  _warn_prf(average, modifier, msg_start, len(result))\n",
            "/usr/local/lib/python3.10/dist-packages/sklearn/metrics/_classification.py:1344: UndefinedMetricWarning: Precision and F-score are ill-defined and being set to 0.0 in labels with no predicted samples. Use `zero_division` parameter to control this behavior.\n",
            "  _warn_prf(average, modifier, msg_start, len(result))\n",
            "/usr/local/lib/python3.10/dist-packages/sklearn/metrics/_classification.py:1344: UndefinedMetricWarning: Precision and F-score are ill-defined and being set to 0.0 in labels with no predicted samples. Use `zero_division` parameter to control this behavior.\n",
            "  _warn_prf(average, modifier, msg_start, len(result))\n"
          ]
        }
      ]
    }
  ]
}